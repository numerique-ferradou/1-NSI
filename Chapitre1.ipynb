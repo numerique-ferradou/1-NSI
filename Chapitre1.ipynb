{
 "cells": [
  {
   "cell_type": "markdown",
   "metadata": {},
   "source": [
    "#                                                         Variable"
   ]
  },
  {
   "cell_type": "markdown",
   "metadata": {},
   "source": [
    "## I - Généralités\n",
    "\n",
    "Pour compter, stocker une information ou un chemin de fichier, pour afficher des messages, vous utiliser des variables.\n",
    "\n",
    "Une **variable** est une zone de la mémoire dans laquelle une valeur est stockée. Aux yeux du programmeur, cette variable est définie par un nom, alors que pour l'ordinateur, il s'agit en fait d'une **adresse** (i.e. une zone particulière de la mémoire).  \n",
    "Sous Python, il n'est pas nécessaire d'écrire des lignes de programme spécifiques pour définir le type des variables avant de pouvoir les utiliser. Il vous suffit en effet d'assigner une valeur à un nom de variable pour que celle-ci soit **automatiquement créée avec le type qui correspond au mieux à la valeur fournie.**\n",
    "\n",
    "Exemple de typage dynamique (regarder le type de la variable A) : \n",
    " "
   ]
  },
  {
   "cell_type": "code",
   "execution_count": 2,
   "metadata": {},
   "outputs": [
    {
     "data": {
      "text/plain": [
       "str"
      ]
     },
     "execution_count": 2,
     "metadata": {},
     "output_type": "execute_result"
    }
   ],
   "source": [
    "ma_variable = \"Ceci est une chaine de caractères\" \n",
    "A = \"Hello World\"\n",
    "B = 12\n",
    "type(A)\n",
    "\n"
   ]
  },
  {
   "cell_type": "code",
   "execution_count": 3,
   "metadata": {},
   "outputs": [
    {
     "data": {
      "text/plain": [
       "int"
      ]
     },
     "execution_count": 3,
     "metadata": {},
     "output_type": "execute_result"
    }
   ],
   "source": [
    "type(B)\n"
   ]
  },
  {
   "cell_type": "code",
   "execution_count": 4,
   "metadata": {},
   "outputs": [
    {
     "data": {
      "text/plain": [
       "int"
      ]
     },
     "execution_count": 4,
     "metadata": {},
     "output_type": "execute_result"
    }
   ],
   "source": [
    "A=B\n",
    "type(A)"
   ]
  },
  {
   "cell_type": "markdown",
   "metadata": {},
   "source": [
    "On dira à ce sujet que **le typage des variables sous Python est un typage dynamique**, par opposition au typage statique qui est de règle par exemple en C++ ou en Java. Dans ces langages, il faut toujours - par des instructions distinctes - d'abord déclarer (définir) le nom et le type des variables, et ensuite seulement leur assigner un contenu, lequel doit bien entendu être compatible avec le type déclaré.\n"
   ]
  },
  {
   "cell_type": "markdown",
   "metadata": {},
   "source": [
    "# II - Type de variables"
   ]
  },
  {
   "cell_type": "markdown",
   "metadata": {},
   "source": [
    "- Données numériques : Entiers (pour les compteurs, les boucles), Virgules flottantes \n",
    "- Booléens : True, False \n",
    "- Chaînes de caractères : Type Texte (pour les messages d’information ou d’erreur)"
   ]
  },
  {
   "cell_type": "code",
   "execution_count": 7,
   "metadata": {},
   "outputs": [
    {
     "name": "stdout",
     "output_type": "stream",
     "text": [
      "Programmer en Python  c'est 'fun'.\n"
     ]
    },
    {
     "data": {
      "text/plain": [
       "\"Python: c'est bon\""
      ]
     },
     "execution_count": 7,
     "metadata": {},
     "output_type": "execute_result"
    }
   ],
   "source": [
    "ma_chaine = 'Python'\n",
    "print(\"Programmer en\" , ma_chaine, \" c'est 'fun'.\")\n",
    "ma_chaine +  \": c'est bon\""
   ]
  },
  {
   "cell_type": "markdown",
   "metadata": {},
   "source": [
    "# III - Nommage"
   ]
  },
  {
   "cell_type": "markdown",
   "metadata": {},
   "source": [
    " Nous rencontrerons bientôt d’autres types :\n",
    "• les listes \n",
    "• tuples,\n",
    "• dictionnaires\n",
    "\n",
    "Le nom des variables en Python peut être constitué de lettres minuscules (a à z), de lettres majuscules (A à Z), de nombres (0 à 9) ou du caractère souligné ( _ ). \n",
    "Néanmoins, un nom de variable ne doit pas débuter ni par un chiffre, ni par _ et ne peut pas contenir de caractère accentué. Il faut absolument éviter d'utiliser un mot «réservé » par Python comme nom de variable (par ex. : print, range, for, from, etc.). \n",
    "Python est sensible à la casse, ce qui signifie que les variables TesT, test ou TEST sont différentes. \n",
    "Enfin, n'utilisez jamais d'espace dans un nom de variable puisque celui-ci est le séparateur d'instructions. \n",
    "\n",
    "**Attention** : Par convention on n’utilise pas de majuscules pour un nom de variable.\n",
    "Une variable qui compte le nombre de point de vie peut s’écrire :\n",
    "nombreptvie     nombrepointvie\tnombre_Pt_Vie \tnombre_Point_Vie\tnbVie\t\tnbvie\t\tnb_Pt_Vie         nb_pt_vie  …\n",
    "\n",
    "Sous python on utiliserait l’exemple 1 (nombrepointvie) en javascript (nombre_Point_Vie). A vous de choisir ce qui vous convient le mieux. Le plus important est qu’il faut que la variable soit explicite et que vous respectiez votre convention.\n",
    "\n",
    "# IV - Opérations \n",
    "Les quatre opérations de base se font de manière simple sur les types numériques (nombres entiers et réels) : \n"
   ]
  },
  {
   "cell_type": "code",
   "execution_count": 6,
   "metadata": {},
   "outputs": [
    {
     "data": {
      "text/plain": [
       "180.0"
      ]
     },
     "execution_count": 6,
     "metadata": {},
     "output_type": "execute_result"
    }
   ],
   "source": [
    "x = 45\n",
    "x + 2\n",
    "y = 2.5\n",
    "x + y\n",
    "(x * 10) / y"
   ]
  },
  {
   "cell_type": "markdown",
   "metadata": {},
   "source": [
    "Remarquez toutefois que si vous mélangez les types entiers et réels, le résultat est renvoyé comme un réel (car ce type est plus général). \n",
    "L'opérateur puissance utilise le symbole **2 .\n",
    "Et pour obtenir le reste d'une division entière, on utilise le symbole modulo % :"
   ]
  },
  {
   "cell_type": "code",
   "execution_count": null,
   "metadata": {
    "collapsed": true
   },
   "outputs": [],
   "source": [
    "2**3\n",
    "3 % 4\n",
    "8 % 4\n",
    "9//2"
   ]
  },
  {
   "cell_type": "markdown",
   "metadata": {},
   "source": [
    "### 1 - Opérations sur les chaînes de caractères \n",
    "Pour les chaînes de caractères, deux opérations sont possibles, l'addition et la multiplication : "
   ]
  },
  {
   "cell_type": "code",
   "execution_count": null,
   "metadata": {
    "collapsed": true
   },
   "outputs": [],
   "source": [
    "chaine = \"Salut\"\n",
    "\n",
    "chaine + \" Python\"\n",
    "chaine * 3\n"
   ]
  },
  {
   "cell_type": "markdown",
   "metadata": {},
   "source": [
    "L'opérateur d'addition + permet de concaténer (assembler) deux chaînes de caractères et l'opérateur de multiplication * permet de dupliquer plusieurs fois une chaîne. \n",
    "### 2 - Opérations illicites \n",
    "Attention à ne pas faire d'opération illicite car vous obtiendriez un message d'erreur : \n"
   ]
  },
  {
   "cell_type": "code",
   "execution_count": 8,
   "metadata": {},
   "outputs": [
    {
     "ename": "TypeError",
     "evalue": "Can't convert 'int' object to str implicitly",
     "output_type": "error",
     "traceback": [
      "\u001b[1;31m---------------------------------------------------------------------------\u001b[0m",
      "\u001b[1;31mTypeError\u001b[0m                                 Traceback (most recent call last)",
      "\u001b[1;32m<ipython-input-8-1932f4dd0f71>\u001b[0m in \u001b[0;36m<module>\u001b[1;34m()\u001b[0m\n\u001b[1;32m----> 1\u001b[1;33m \u001b[1;34m'toto'\u001b[0m \u001b[1;33m+\u001b[0m \u001b[1;36m2\u001b[0m\u001b[1;33m\u001b[0m\u001b[0m\n\u001b[0m",
      "\u001b[1;31mTypeError\u001b[0m: Can't convert 'int' object to str implicitly"
     ]
    }
   ],
   "source": [
    "'toto' + 2"
   ]
  },
  {
   "cell_type": "markdown",
   "metadata": {},
   "source": [
    "Notez que Python vous donne le maximum d'indices dans son message d'erreur. Dans l'exemple précédent, il vous indique que vous ne pouvez pas mélanger des objets de type str (string, donc des chaînes de caractères) avec des objets de type int (donc des entiers), ce qui est assez logique. \n",
    "\n",
    "Nous verrons plus tard dans l’année comment créer nos propres messages d’erreur.\n",
    "\n",
    "# V – Méthodes associées aux chaînes de caractères \n",
    "Voici quelques **méthodes** spécifiques aux objets de type string : \n"
   ]
  },
  {
   "cell_type": "code",
   "execution_count": 11,
   "metadata": {},
   "outputs": [
    {
     "name": "stdout",
     "output_type": "stream",
     "text": [
      "GIRAFE\n",
      "girafe\n"
     ]
    },
    {
     "data": {
      "text/plain": [
       "'tigre'"
      ]
     },
     "execution_count": 11,
     "metadata": {},
     "output_type": "execute_result"
    }
   ],
   "source": [
    "x = \"girafe\"\n",
    "print(x.upper())\n",
    "print(x)\n",
    "'TIGRE'.lower()\n"
   ]
  },
  {
   "cell_type": "markdown",
   "metadata": {},
   "source": [
    "Les fonctions lower() et upper() passent un texte en minuscule et en majuscule respectivement. \n",
    "\n",
    "Il existe une méthode associée aux chaînes de caractères qui est particulièrement pratique, la fonction split() : "
   ]
  },
  {
   "cell_type": "code",
   "execution_count": 13,
   "metadata": {},
   "outputs": [
    {
     "name": "stdout",
     "output_type": "stream",
     "text": [
      "girafe\n",
      "tigre\n",
      "singe\n"
     ]
    }
   ],
   "source": [
    "animaux = \"girafe tigre singe\"\n",
    "animaux.split()\n",
    "for i in animaux.split():\n",
    "    print(i)\n"
   ]
  },
  {
   "cell_type": "markdown",
   "metadata": {},
   "source": [
    "La fonction split() découpe la ligne en champs, en utilisant comme séparateur les espaces ou les tabulations. \n",
    "\n",
    "Il est possible de modifier le séparateur de champs, par exemple : \n"
   ]
  },
  {
   "cell_type": "code",
   "execution_count": null,
   "metadata": {
    "collapsed": true
   },
   "outputs": [],
   "source": [
    "animaux = \"girafe:tigre:singe\"\n",
    "animaux.split(\":\")"
   ]
  },
  {
   "cell_type": "code",
   "execution_count": null,
   "metadata": {
    "collapsed": true
   },
   "outputs": [],
   "source": [
    "La fonction find() recherche une chaîne de caractères passée en argument. "
   ]
  },
  {
   "cell_type": "markdown",
   "metadata": {},
   "source": [
    "# VI : Exercices \n",
    "x = 3\n",
    "y = 4.6\n",
    "\n",
    "1 - De quel type est x ?               #Pour vérifier vous pouvez saisir type(x)\n",
    "2 - De quel type est y ?\n",
    "3 - De quel type est x + y ?\n",
    "4 - De quel type est \"x + y\" .\n",
    "5 – x**2 est égal à \n",
    "6 - \"x\" * 3 est égal à \n",
    "7 – qu’affiche le message :  print(\" La valeur de x est : \" , x)    \n",
    "8 - Le résultat de :   17//3 est ?\n",
    "9 - Le résultat de :   17 %3 \n"
   ]
  }
 ],
 "metadata": {
  "kernelspec": {
   "display_name": "Python 3",
   "language": "python",
   "name": "python3"
  },
  "language_info": {
   "codemirror_mode": {
    "name": "ipython",
    "version": 3
   },
   "file_extension": ".py",
   "mimetype": "text/x-python",
   "name": "python",
   "nbconvert_exporter": "python",
   "pygments_lexer": "ipython3",
   "version": "3.4.5"
  }
 },
 "nbformat": 4,
 "nbformat_minor": 2
}
